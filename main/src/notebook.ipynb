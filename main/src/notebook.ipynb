{
 "cells": [
  {
   "cell_type": "markdown",
   "metadata": {},
   "source": [
    "# Projet Little Sister V2.\r\n",
    "### La société \"Little Sister\" est une entreprise spécialisée dans le secteur de la vidéosurveillance. Elle revient vers vous afin d'améliorer l'algorithme que vous lui avez précédemment fourni.\r\n",
    "\r\n",
    "### La performance de ce modèle ne répond aujourd'hui pas aux espérances de la société. Il faut donc tout d'abord **analyser la performance d'un modèle sans préprocessing** et essayer d'améliorer la qualité du modèle avec du préprocessing (ici data augmentation)."
   ]
  },
  {
   "cell_type": "markdown",
   "metadata": {},
   "source": [
    "## Imports et paramètrage"
   ]
  },
  {
   "cell_type": "code",
   "execution_count": 1,
   "metadata": {},
   "outputs": [
    {
     "name": "stderr",
     "output_type": "stream",
     "text": [
      "Using TensorFlow backend.\n"
     ]
    }
   ],
   "source": [
    "from keras.models import Sequential\r\n",
    "from keras.layers import Dense, Dropout, Conv2D, MaxPool2D, Flatten\r\n",
    "from keras.utils import to_categorical\r\n",
    "from tensorflow.keras.datasets import cifar10\r\n",
    "\r\n",
    "import numpy as np\r\n",
    "import matplotlib.pyplot as plt\r\n",
    "plt.style.use(\"fivethirtyeight\")\r\n",
    "\r\n",
    "from classes.functions import functions"
   ]
  },
  {
   "cell_type": "code",
   "execution_count": 2,
   "metadata": {},
   "outputs": [],
   "source": [
    "# Chemins du projet\r\n",
    "MODELS_ROOT = \"models/\"\r\n",
    "\r\n",
    "# Initialisation\r\n",
    "fc = functions()\r\n",
    "\r\n",
    "# Autres paramètres\r\n",
    "epochs = 15\r\n",
    "img_size = 32\r\n",
    "batch_size = 64"
   ]
  },
  {
   "cell_type": "markdown",
   "metadata": {},
   "source": [
    "## Import et traitement des images d'entraînement/test avant leur utilisation"
   ]
  },
  {
   "cell_type": "code",
   "execution_count": 3,
   "metadata": {},
   "outputs": [],
   "source": [
    "# Import et split\r\n",
    "(X_train, y_train), (X_val, y_val) = cifar10.load_data()"
   ]
  },
  {
   "cell_type": "code",
   "execution_count": 4,
   "metadata": {},
   "outputs": [
    {
     "name": "stdout",
     "output_type": "stream",
     "text": [
      "label:  [6]\n"
     ]
    },
    {
     "data": {
      "image/png": "[encoded data removed]",
      "text/plain": [
       "<Figure size 432x288 with 1 Axes>"
      ]
     },
     "metadata": {},
     "output_type": "display_data"
    }
   ],
   "source": [
    "# Affichage de la première image du jeu d'entraînement\r\n",
    "plt.imshow(X_train[0])\r\n",
    "print(\"label: \", y_train[0])"
   ]
  },
  {
   "cell_type": "code",
   "execution_count": 5,
   "metadata": {},
   "outputs": [
    {
     "data": {
      "text/plain": [
       "(32, 32, 3)"
      ]
     },
     "execution_count": 5,
     "metadata": {},
     "output_type": "execute_result"
    }
   ],
   "source": [
    "# Verrification de la taille des images\r\n",
    "# (spoiler: la taille est bonne, pas besoin de les resize étant donné que je veux travailler sur des images 32x32)\r\n",
    "X_train[0].shape"
   ]
  },
  {
   "cell_type": "code",
   "execution_count": 6,
   "metadata": {},
   "outputs": [
    {
     "data": {
      "text/plain": [
       "array([0., 0., 0., 0., 0., 0., 1., 0., 0., 0.], dtype=float32)"
      ]
     },
     "execution_count": 6,
     "metadata": {},
     "output_type": "execute_result"
    }
   ],
   "source": [
    "# Catégorisation (A chaque image, attribue un binaire pour chaque label - 1 quand c'est le bon label)\r\n",
    "y_train = to_categorical(y_train)\r\n",
    "y_val = to_categorical(y_val)\r\n",
    "\r\n",
    "# Exemple sur la première image\r\n",
    "y_train[0]"
   ]
  },
  {
   "cell_type": "markdown",
   "metadata": {},
   "source": [
    "## Création d'un modèle basique"
   ]
  },
  {
   "cell_type": "markdown",
   "metadata": {},
   "source": [
    "### Création :"
   ]
  },
  {
   "cell_type": "code",
   "execution_count": 7,
   "metadata": {},
   "outputs": [
    {
     "name": "stdout",
     "output_type": "stream",
     "text": [
      "Model: \"sequential_1\"\n",
      "_________________________________________________________________\n",
      "Layer (type)                 Output Shape              Param #   \n",
      "=================================================================\n",
      "conv2d_1 (Conv2D)            (None, 32, 32, 50)        1400      \n",
      "_________________________________________________________________\n",
      "conv2d_2 (Conv2D)            (None, 16, 16, 125)       56375     \n",
      "_________________________________________________________________\n",
      "max_pooling2d_1 (MaxPooling2 (None, 8, 8, 125)         0         \n",
      "_________________________________________________________________\n",
      "dropout_1 (Dropout)          (None, 8, 8, 125)         0         \n",
      "_________________________________________________________________\n",
      "flatten_1 (Flatten)          (None, 8000)              0         \n",
      "_________________________________________________________________\n",
      "dense_1 (Dense)              (None, 10)                80010     \n",
      "=================================================================\n",
      "Total params: 137,785\n",
      "Trainable params: 137,785\n",
      "Non-trainable params: 0\n",
      "_________________________________________________________________\n"
     ]
    }
   ],
   "source": [
    "# Création d'un modèle séquentiel qui se résume à une pile linéaire de couches\r\n",
    "model = Sequential()\r\n",
    "\r\n",
    "model.add(Conv2D(50, kernel_size=(3,3), strides=(1,1), padding='same', activation='relu', input_shape=(32, 32, 3)))\r\n",
    "model.add(Conv2D(125, kernel_size=(3,3), strides=(2,2), padding='same', activation='relu', input_shape=(32, 32, 3)))\r\n",
    "model.add(MaxPool2D(pool_size=(2,2)))\r\n",
    "model.add(Dropout(0.25))\r\n",
    "model.add(Flatten())\r\n",
    "model.add(Dense(10, activation='softmax'))\r\n",
    "\r\n",
    "model.summary()\r\n"
   ]
  },
  {
   "cell_type": "markdown",
   "metadata": {},
   "source": [
    "### Entraînement :"
   ]
  },
  {
   "cell_type": "code",
   "execution_count": 8,
   "metadata": {},
   "outputs": [
    {
     "name": "stdout",
     "output_type": "stream",
     "text": [
      "Train on 50000 samples, validate on 10000 samples\n",
      "Epoch 1/15\n",
      "50000/50000 [==============================] - 248s 5ms/step - loss: 2.1343 - accuracy: 0.4083 - val_loss: 1.3967 - val_accuracy: 0.5094\n",
      "Epoch 2/15\n",
      "50000/50000 [==============================] - 232s 5ms/step - loss: 1.3182 - accuracy: 0.5379 - val_loss: 1.3702 - val_accuracy: 0.5386\n",
      "Epoch 3/15\n",
      "50000/50000 [==============================] - 231s 5ms/step - loss: 1.2112 - accuracy: 0.5801 - val_loss: 1.1437 - val_accuracy: 0.5994\n",
      "Epoch 4/15\n",
      "50000/50000 [==============================] - 232s 5ms/step - loss: 1.1447 - accuracy: 0.6016 - val_loss: 1.2053 - val_accuracy: 0.5860\n",
      "Epoch 5/15\n",
      "50000/50000 [==============================] - 231s 5ms/step - loss: 1.1000 - accuracy: 0.6175 - val_loss: 1.1607 - val_accuracy: 0.5989\n",
      "Epoch 6/15\n",
      "50000/50000 [==============================] - 235s 5ms/step - loss: 1.0459 - accuracy: 0.6368 - val_loss: 1.1193 - val_accuracy: 0.6140\n",
      "Epoch 7/15\n",
      "50000/50000 [==============================] - 232s 5ms/step - loss: 1.0142 - accuracy: 0.6480 - val_loss: 1.0975 - val_accuracy: 0.6273\n",
      "Epoch 8/15\n",
      "50000/50000 [==============================] - 237s 5ms/step - loss: 0.9851 - accuracy: 0.6590 - val_loss: 1.1664 - val_accuracy: 0.6063\n",
      "Epoch 9/15\n",
      "50000/50000 [==============================] - 235s 5ms/step - loss: 0.9509 - accuracy: 0.6715 - val_loss: 1.1108 - val_accuracy: 0.6279\n",
      "Epoch 10/15\n",
      "50000/50000 [==============================] - 234s 5ms/step - loss: 0.9391 - accuracy: 0.6765 - val_loss: 1.1629 - val_accuracy: 0.6097\n",
      "Epoch 11/15\n",
      "50000/50000 [==============================] - 236s 5ms/step - loss: 0.9140 - accuracy: 0.6827 - val_loss: 1.1418 - val_accuracy: 0.6254\n",
      "Epoch 12/15\n",
      "50000/50000 [==============================] - 235s 5ms/step - loss: 0.8926 - accuracy: 0.6911 - val_loss: 1.1524 - val_accuracy: 0.6240\n",
      "Epoch 13/15\n",
      "50000/50000 [==============================] - 235s 5ms/step - loss: 0.8618 - accuracy: 0.6999 - val_loss: 1.1341 - val_accuracy: 0.6348\n",
      "Epoch 14/15\n",
      "50000/50000 [==============================] - 237s 5ms/step - loss: 0.8400 - accuracy: 0.7093 - val_loss: 1.2044 - val_accuracy: 0.6176\n",
      "Epoch 15/15\n",
      "50000/50000 [==============================] - 236s 5ms/step - loss: 0.8371 - accuracy: 0.7100 - val_loss: 1.1515 - val_accuracy: 0.6276\n"
     ]
    }
   ],
   "source": [
    "model.compile(loss='categorical_crossentropy', metrics=['accuracy'], optimizer='adam')\r\n",
    "\r\n",
    "# Entraînement du modèle\r\n",
    "history = model.fit(X_train, y_train, validation_data=(X_val, y_val), epochs=epochs, batch_size=batch_size)"
   ]
  },
  {
   "cell_type": "markdown",
   "metadata": {},
   "source": [
    "### Evaluation + sauvegarde :"
   ]
  },
  {
   "cell_type": "code",
   "execution_count": 9,
   "metadata": {},
   "outputs": [
    {
     "name": "stdout",
     "output_type": "stream",
     "text": [
      "Test de pertes: 0.6251835631752014 \n",
      "Test de précision: 0.7870799899101257\n",
      "Modèle enregistré!\n"
     ]
    }
   ],
   "source": [
    "score = model.evaluate(X_train, y_train, verbose=0)\r\n",
    "print(\"Test de pertes:\", score[0], \"\\nTest de précision:\", score[1])\r\n",
    "\r\n",
    "model.save(MODELS_ROOT + \"model1.h5\")\r\n",
    "print(\"Modèle enregistré!\")"
   ]
  },
  {
   "cell_type": "markdown",
   "metadata": {},
   "source": [
    "### Test du modèle :"
   ]
  },
  {
   "cell_type": "code",
   "execution_count": 10,
   "metadata": {},
   "outputs": [
    {
     "data": {
      "text/plain": [
       "array([[4.0993080e-03, 2.4060878e-07, 1.0122477e-02, 1.4722218e-01,\n",
       "        1.2877695e-03, 4.2143318e-01, 2.5366843e-03, 1.5609043e-04,\n",
       "        4.1313142e-01, 1.0617196e-05],\n",
       "       [5.8291666e-04, 1.1258354e-02, 1.8609750e-08, 7.4052582e-09,\n",
       "        4.7158046e-12, 3.7430583e-09, 3.6286960e-11, 1.3102869e-11,\n",
       "        9.8695135e-01, 1.2074086e-03],\n",
       "       [1.7386708e-02, 2.5543082e-01, 2.7883315e-04, 5.7238800e-04,\n",
       "        8.0531143e-04, 4.6649363e-04, 5.6649846e-05, 1.9828654e-03,\n",
       "        6.8114352e-01, 4.1876450e-02],\n",
       "       [5.3003043e-01, 4.2925116e-01, 5.8457430e-04, 2.2933720e-05,\n",
       "        1.4372607e-05, 1.7701392e-06, 1.6860215e-05, 2.9225088e-05,\n",
       "        3.9045073e-02, 1.0035449e-03]], dtype=float32)"
      ]
     },
     "execution_count": 10,
     "metadata": {},
     "output_type": "execute_result"
    }
   ],
   "source": [
    "# Test de prédiction sur les 4 premières images du jeu de test\r\n",
    "model.predict(X_val[:4])"
   ]
  },
  {
   "cell_type": "code",
   "execution_count": 11,
   "metadata": {},
   "outputs": [
    {
     "data": {
      "text/plain": [
       "array([[0., 0., 0., 1., 0., 0., 0., 0., 0., 0.],\n",
       "       [0., 0., 0., 0., 0., 0., 0., 0., 1., 0.],\n",
       "       [0., 0., 0., 0., 0., 0., 0., 0., 1., 0.],\n",
       "       [1., 0., 0., 0., 0., 0., 0., 0., 0., 0.]], dtype=float32)"
      ]
     },
     "execution_count": 11,
     "metadata": {},
     "output_type": "execute_result"
    }
   ],
   "source": [
    "# Valeurs réelles\r\n",
    "y_val[:4]"
   ]
  },
  {
   "cell_type": "code",
   "execution_count": 12,
   "metadata": {},
   "outputs": [
    {
     "name": "stdout",
     "output_type": "stream",
     "text": [
      "dict_keys(['val_loss', 'val_accuracy', 'loss', 'accuracy'])\n"
     ]
    },
    {
     "data": {
      "image/png": "[encoded data removed]",
      "text/plain": [
       "<Figure size 432x288 with 1 Axes>"
      ]
     },
     "metadata": {},
     "output_type": "display_data"
    },
    {
     "data": {
      "image/png": "[encoded data removed]",
      "text/plain": [
       "<Figure size 432x288 with 1 Axes>"
      ]
     },
     "metadata": {},
     "output_type": "display_data"
    }
   ],
   "source": [
    "# list all data in history\r\n",
    "print(history.history.keys())\r\n",
    "\r\n",
    "plt.plot(history.history['accuracy'])\r\n",
    "plt.plot(history.history['val_accuracy'])\r\n",
    "plt.title('model accuracy')\r\n",
    "plt.ylabel('accuracy')\r\n",
    "plt.xlabel('epoch')\r\n",
    "plt.legend(['train', 'test'], loc='upper left')\r\n",
    "plt.show()\r\n",
    "# summarize history for loss\r\n",
    "plt.plot(history.history['loss'])\r\n",
    "plt.plot(history.history['val_loss'])\r\n",
    "plt.title('model loss')\r\n",
    "plt.ylabel('loss')\r\n",
    "plt.xlabel('epoch')\r\n",
    "plt.legend(['train', 'test'], loc='upper left')\r\n",
    "plt.show()"
   ]
  },
  {
   "cell_type": "markdown",
   "metadata": {},
   "source": [
    "## Ajout de data augmentation"
   ]
  },
  {
   "cell_type": "markdown",
   "metadata": {},
   "source": [
    "### Création :"
   ]
  },
  {
   "cell_type": "markdown",
   "metadata": {},
   "source": [
    "### Entraînement :"
   ]
  },
  {
   "cell_type": "markdown",
   "metadata": {},
   "source": [
    "### Test : "
   ]
  }
 ],
 "metadata": {
  "interpreter": {
   "hash": "b673dfd33efc66f9a6cf7f0877edec867974a5d8bd89a010524f4506b964ea35"
  },
  "kernelspec": {
   "display_name": "Python 3.6.13 64-bit ('CNN': conda)",
   "name": "python3"
  },
  "language_info": {
   "codemirror_mode": {
    "name": "ipython",
    "version": 3
   },
   "file_extension": ".py",
   "mimetype": "text/x-python",
   "name": "python",
   "nbconvert_exporter": "python",
   "pygments_lexer": "ipython3",
   "version": "3.6.13"
  },
  "orig_nbformat": 4
 },
 "nbformat": 4,
 "nbformat_minor": 2
}